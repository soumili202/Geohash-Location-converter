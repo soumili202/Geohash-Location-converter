{
 "cells": [
  {
   "cell_type": "code",
   "execution_count": 1,
   "id": "f513f48d",
   "metadata": {},
   "outputs": [
    {
     "name": "stdout",
     "output_type": "stream",
     "text": [
      "Collecting pygeohashNote: you may need to restart the kernel to use updated packages.\n",
      "\n",
      "  Downloading pygeohash-1.2.0.tar.gz (5.0 kB)\n",
      "Building wheels for collected packages: pygeohash\n",
      "  Building wheel for pygeohash (setup.py): started\n",
      "  Building wheel for pygeohash (setup.py): finished with status 'done'\n",
      "  Created wheel for pygeohash: filename=pygeohash-1.2.0-py2.py3-none-any.whl size=6167 sha256=2a7189099e39d97b9e5ea201cdf0e407c93ac2949dceaaf2dc04b755f711d7c6\n",
      "  Stored in directory: c:\\users\\soumili mukherjee\\appdata\\local\\pip\\cache\\wheels\\6e\\e7\\a2\\4ea56930e1cc3ece852306b842f9ca71e0cd9482cb8b848e27\n",
      "Successfully built pygeohash\n",
      "Installing collected packages: pygeohash\n",
      "Successfully installed pygeohash-1.2.0\n"
     ]
    }
   ],
   "source": [
    "pip install pygeohash"
   ]
  },
  {
   "cell_type": "code",
   "execution_count": 2,
   "id": "a02000f5",
   "metadata": {},
   "outputs": [
    {
     "data": {
      "text/plain": [
       "(-20.3, 17.4)"
      ]
     },
     "execution_count": 2,
     "metadata": {},
     "output_type": "execute_result"
    }
   ],
   "source": [
    "import pygeohash as pgh\n",
    "pgh.decode('kkkkk')"
   ]
  },
  {
   "cell_type": "code",
   "execution_count": null,
   "id": "23613a5e",
   "metadata": {},
   "outputs": [],
   "source": []
  }
 ],
 "metadata": {
  "kernelspec": {
   "display_name": "Python 3 (ipykernel)",
   "language": "python",
   "name": "python3"
  },
  "language_info": {
   "codemirror_mode": {
    "name": "ipython",
    "version": 3
   },
   "file_extension": ".py",
   "mimetype": "text/x-python",
   "name": "python",
   "nbconvert_exporter": "python",
   "pygments_lexer": "ipython3",
   "version": "3.9.12"
  }
 },
 "nbformat": 4,
 "nbformat_minor": 5
}
